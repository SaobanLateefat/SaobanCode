{
 "cells": [
  {
   "cell_type": "code",
   "execution_count": 2,
   "id": "da89f190",
   "metadata": {},
   "outputs": [
    {
     "name": "stdout",
     "output_type": "stream",
     "text": [
      "Hello world 1\n",
      "Hello world 2\n",
      "Hello world 3\n"
     ]
    }
   ],
   "source": [
    "#This code prints Hello world\n",
    "\n",
    "print(\"Hello world 1\")\n",
    "print(\"Hello world 2\")\n",
    "print(\"Hello world 3\")"
   ]
  },
  {
   "cell_type": "code",
   "execution_count": 6,
   "id": "b336cd80",
   "metadata": {},
   "outputs": [
    {
     "name": "stdout",
     "output_type": "stream",
     "text": [
      "<class 'int'>\n",
      "<class 'str'>\n",
      "44\n",
      "<class 'int'>\n"
     ]
    }
   ],
   "source": [
    "#Variables:containers for storing values.\n",
    "#Casting:converting data types.\n",
    "#A variable name must start with a letter or a character, can not start with a number. It can only contain alphanumeric characters and underscores.\n",
    "#variable names are case sensitive\n",
    "x = 32\n",
    "y = \"44\"\n",
    "\n",
    "print(type(x))\n",
    "print(type(y))\n",
    "\n",
    "y=int(y)\n",
    "print(int(y))\n",
    "print(type(y))\n"
   ]
  },
  {
   "cell_type": "code",
   "execution_count": 7,
   "id": "cf396be8",
   "metadata": {},
   "outputs": [
    {
     "name": "stdout",
     "output_type": "stream",
     "text": [
      "<class 'int'>\n",
      "<class 'float'>\n",
      "<class 'complex'>\n"
     ]
    }
   ],
   "source": [
    "x = 1\n",
    "y = 3.5\n",
    "z = 2j\n",
    "\n",
    "print(type(x))\n",
    "print(type(y))\n",
    "print(type(z))"
   ]
  },
  {
   "cell_type": "code",
   "execution_count": 8,
   "id": "ee5cd92f",
   "metadata": {},
   "outputs": [
    {
     "name": "stdout",
     "output_type": "stream",
     "text": [
      "<class 'str'>\n",
      "<class 'str'>\n"
     ]
    }
   ],
   "source": [
    "#whether you use a double or single quotation mark, its still a string.\n",
    "x = \"hello\"\n",
    "y = 'hello'\n",
    "\n",
    "print(type(x))\n",
    "print(type(y))"
   ]
  },
  {
   "cell_type": "code",
   "execution_count": 9,
   "id": "dd1e7647",
   "metadata": {},
   "outputs": [
    {
     "name": "stdout",
     "output_type": "stream",
     "text": [
      "\n",
      "This a mutiline string.\n",
      "it is \n",
      "\n",
      "\n"
     ]
    }
   ],
   "source": [
    "a =\"\"\"\n",
    "This a mutiline string.\n",
    "it is \n",
    "\n",
    "\"\"\"\n",
    "print(a)"
   ]
  },
  {
   "cell_type": "code",
   "execution_count": 10,
   "id": "1d73018a",
   "metadata": {},
   "outputs": [
    {
     "name": "stdout",
     "output_type": "stream",
     "text": [
      "True\n",
      "False\n",
      "False\n"
     ]
    }
   ],
   "source": [
    "#Boolean\n",
    "print(10>9)\n",
    "\n",
    "print(10==9)\n",
    "\n",
    "print(10<9)"
   ]
  },
  {
   "cell_type": "code",
   "execution_count": 18,
   "id": "41b1117b",
   "metadata": {},
   "outputs": [
    {
     "name": "stdout",
     "output_type": "stream",
     "text": [
      "9\n"
     ]
    }
   ],
   "source": [
    "#Operators\n",
    "\n",
    "x = 19\n",
    "y = 2\n",
    "\n",
    "z = x // y\n",
    "print(z)"
   ]
  },
  {
   "cell_type": "code",
   "execution_count": 19,
   "id": "3227378e",
   "metadata": {},
   "outputs": [
    {
     "name": "stdout",
     "output_type": "stream",
     "text": [
      "10\n"
     ]
    }
   ],
   "source": [
    "a = 2\n",
    "b = 3\n",
    "c = 5\n",
    "\n",
    "x = a + b + c\n",
    "print(x)"
   ]
  },
  {
   "cell_type": "code",
   "execution_count": null,
   "id": "df0f40fa",
   "metadata": {},
   "outputs": [],
   "source": [
    "a = 5\n",
    "b = 10\n",
    "c = 15\n",
    "d = 20\n",
    "e = 25\n",
    "\n",
    "y = (a + b + c + d + e)"
   ]
  }
 ],
 "metadata": {
  "kernelspec": {
   "display_name": "Python 3",
   "language": "python",
   "name": "python3"
  },
  "language_info": {
   "codemirror_mode": {
    "name": "ipython",
    "version": 3
   },
   "file_extension": ".py",
   "mimetype": "text/x-python",
   "name": "python",
   "nbconvert_exporter": "python",
   "pygments_lexer": "ipython3",
   "version": "3.8.8"
  }
 },
 "nbformat": 4,
 "nbformat_minor": 5
}
