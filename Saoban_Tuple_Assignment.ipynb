{
 "cells": [
  {
   "cell_type": "code",
   "execution_count": 1,
   "id": "2ae904c0",
   "metadata": {},
   "outputs": [
    {
     "name": "stdout",
     "output_type": "stream",
     "text": [
      "(50, 40, 30, 20, 10)\n"
     ]
    }
   ],
   "source": [
    "#Reverse function\n",
    "aTuple = (10, 20, 30, 40, 50)\n",
    "aTuple = aTuple[::-1]\n",
    "print(aTuple)"
   ]
  },
  {
   "cell_type": "code",
   "execution_count": 2,
   "id": "7bae7bd0",
   "metadata": {},
   "outputs": [
    {
     "name": "stdout",
     "output_type": "stream",
     "text": [
      "20\n"
     ]
    }
   ],
   "source": [
    "#Accessing of value\n",
    "aTuple = ('Orange', [10, 20, 30], (5, 15, 25))\n",
    "print(aTuple[1][1])"
   ]
  },
  {
   "cell_type": "code",
   "execution_count": 3,
   "id": "f197cc30",
   "metadata": {},
   "outputs": [
    {
     "name": "stdout",
     "output_type": "stream",
     "text": [
      "(50,)\n"
     ]
    }
   ],
   "source": [
    "#Single item\n",
    "Num = (50,)\n",
    "print(Num)"
   ]
  },
  {
   "cell_type": "code",
   "execution_count": 4,
   "id": "29f19882",
   "metadata": {},
   "outputs": [
    {
     "name": "stdout",
     "output_type": "stream",
     "text": [
      "10\n",
      "20\n",
      "30\n",
      "40\n"
     ]
    }
   ],
   "source": [
    "#Unpacking the Tuples\n",
    "aTuple = (10 ,20, 30, 40)\n",
    "a = aTuple[0]\n",
    "b = aTuple[1]\n",
    "c = aTuple[2]\n",
    "d = aTuple[3]\n",
    "\n",
    "print(a)\n",
    "print(b)\n",
    "print(c)\n",
    "print(d)"
   ]
  },
  {
   "cell_type": "code",
   "execution_count": 7,
   "id": "97bd5535",
   "metadata": {},
   "outputs": [
    {
     "name": "stdout",
     "output_type": "stream",
     "text": [
      "tuple1 =  (99, 88)\n",
      "tuple2 =  (11, 22)\n"
     ]
    }
   ],
   "source": [
    "#Swaping of tuple\n",
    "tuple1 = (11, 22)\n",
    "tuple2 = (99, 88)\n",
    "\n",
    "tuple1, tuple2 = tuple2, tuple1\n",
    "\n",
    "print('tuple1 = ', tuple1)\n",
    "print('tuple2 = ', tuple2)"
   ]
  },
  {
   "cell_type": "code",
   "execution_count": 8,
   "id": "16b3e87f",
   "metadata": {},
   "outputs": [
    {
     "name": "stdout",
     "output_type": "stream",
     "text": [
      "tuple2 =  (44, 55)\n"
     ]
    }
   ],
   "source": [
    "#Copying of element\n",
    "tuple1 = (11, 22, 33, 44, 55, 66)\n",
    "tuple2 = (tuple1[3:5])\n",
    "\n",
    "print('tuple2 = ', tuple2)"
   ]
  },
  {
   "cell_type": "code",
   "execution_count": 10,
   "id": "dfa8d03a",
   "metadata": {},
   "outputs": [
    {
     "name": "stdout",
     "output_type": "stream",
     "text": [
      "(11, [222, 33], 44, 55)\n"
     ]
    }
   ],
   "source": [
    "#Modifying the tuple\n",
    "tuple1 = (11, [22,33], 44, 55)\n",
    "\n",
    "tuple1[1][0] = 222\n",
    "print(tuple1)"
   ]
  },
  {
   "cell_type": "code",
   "execution_count": 14,
   "id": "ade6b865",
   "metadata": {},
   "outputs": [
    {
     "data": {
      "text/plain": [
       "[('c', 11), ('a', 23), ('d', 29), ('b', 37)]"
      ]
     },
     "execution_count": 14,
     "metadata": {},
     "output_type": "execute_result"
    }
   ],
   "source": [
    "#Sorting by 2nd item\n",
    "tuple1 = (('a', 23), ('b', 37), ('c', 11), ('d', 29))\n",
    "sorted(tuple1, key = lambda x: x[1])\n"
   ]
  },
  {
   "cell_type": "code",
   "execution_count": 15,
   "id": "e9c9e02a",
   "metadata": {},
   "outputs": [
    {
     "data": {
      "text/plain": [
       "2"
      ]
     },
     "execution_count": 15,
     "metadata": {},
     "output_type": "execute_result"
    }
   ],
   "source": [
    "#COunting no of occurence of item 50\n",
    "tuple1 = (50, 10, 60, 70, 50)\n",
    "\n",
    "tuple1.count(50)"
   ]
  },
  {
   "cell_type": "code",
   "execution_count": 34,
   "id": "b8d30bac",
   "metadata": {},
   "outputs": [
    {
     "name": "stdout",
     "output_type": "stream",
     "text": [
      "True\n"
     ]
    }
   ],
   "source": [
    "# Checking if all the items in the tuples are the same\n",
    "\n",
    "tuple1 = (45, 45, 45, 45)\n",
    "tuple2 = tuple1[0] \n",
    "\n",
    "flag = 0\n",
    "for i in tuple1:\n",
    "    if i == tuple2:\n",
    "        flag = 0\n",
    "    else:\n",
    "        flag = 1\n",
    "        \n",
    "if flag == 0:\n",
    "    print(True)\n",
    "else:\n",
    "    print(False)"
   ]
  },
  {
   "cell_type": "markdown",
   "id": "c60874e8",
   "metadata": {},
   "source": [
    "# DICTIONARIES"
   ]
  },
  {
   "cell_type": "code",
   "execution_count": 35,
   "id": "b7b7e116",
   "metadata": {},
   "outputs": [
    {
     "name": "stdout",
     "output_type": "stream",
     "text": [
      "{'Ten': 10, 'Twenty': 20, 'Thirty': 30}\n"
     ]
    }
   ],
   "source": [
    "#Conversion of list to a dictionary\n",
    "keys = ['Ten', 'Twenty','Thirty']\n",
    "values = [10, 20, 30]\n",
    "\n",
    "Dictionary = dict(zip(keys, values))\n",
    "print(Dictionary)"
   ]
  },
  {
   "cell_type": "code",
   "execution_count": 36,
   "id": "7024cf2e",
   "metadata": {},
   "outputs": [
    {
     "name": "stdout",
     "output_type": "stream",
     "text": [
      "{'Ten': 10, 'Twenty': 20, 'Thirty': 30, 'Fourty': 40, 'Fifty': 50}\n"
     ]
    }
   ],
   "source": [
    "#Merging of two dictionaries together\n",
    "dict1 = {'Ten' : 10, 'Twenty' : 20, 'Thirty' : 30}\n",
    "dict2 = {'Thirty' : 30, 'Fourty' : 40, 'Fifty' : 50}\n",
    "\n",
    "dict3 = {**dict1, **dict2}\n",
    "print(dict3)"
   ]
  },
  {
   "cell_type": "code",
   "execution_count": 37,
   "id": "28a959d4",
   "metadata": {},
   "outputs": [
    {
     "name": "stdout",
     "output_type": "stream",
     "text": [
      "80\n"
     ]
    }
   ],
   "source": [
    "#Accessing the value of key 'History'\n",
    "SampleDict = {\n",
    "    'Class' : {\n",
    "        'Student' : {\n",
    "            'name' : 'Mike',\n",
    "            'marks' : {\n",
    "                'physics' : 70,\n",
    "                'history' : 80\n",
    "            }\n",
    "        }\n",
    "    }\n",
    "}\n",
    "\n",
    "print(SampleDict['Class']['Student']['marks']['history'])"
   ]
  },
  {
   "cell_type": "code",
   "execution_count": 38,
   "id": "07746535",
   "metadata": {},
   "outputs": [
    {
     "name": "stdout",
     "output_type": "stream",
     "text": [
      "{'Kelly': {'designation': 'Application Developer', 'salary': 8000}, 'Emma': {'designation': 'Application Developer', 'salary': 8000}, 'John': {'designation': 'Application Developer', 'salary': 8000}}\n"
     ]
    }
   ],
   "source": [
    "#Initializing a dictionary with default values\n",
    "employees = ['Kelly', 'Emma', 'John']\n",
    "defaults = {'designation' : 'Application Developer', 'salary' : 8000}\n",
    "\n",
    "Dictionary = dict.fromkeys(employees, defaults)\n",
    "print(Dictionary)"
   ]
  },
  {
   "cell_type": "code",
   "execution_count": 39,
   "id": "7932652e",
   "metadata": {},
   "outputs": [
    {
     "name": "stdout",
     "output_type": "stream",
     "text": [
      "{'name': 'Kelly', 'salary': 8000}\n"
     ]
    }
   ],
   "source": [
    "#Creating a new dictionary\n",
    "sampleDict = {\n",
    "    'name' : 'Kelly',\n",
    "    'age' : 2,\n",
    "    'salary' : 8000,\n",
    "    'city' : 'New york'\n",
    "}\n",
    "\n",
    "keys = ['name', 'salary']\n",
    "Dict = {k: sampleDict[k] for k in keys}\n",
    "print(Dict)"
   ]
  },
  {
   "cell_type": "code",
   "execution_count": 40,
   "id": "56e5735f",
   "metadata": {},
   "outputs": [
    {
     "name": "stdout",
     "output_type": "stream",
     "text": [
      "{'age': 25, 'city': 'New york'}\n"
     ]
    }
   ],
   "source": [
    "#Deleting Set of keys\n",
    "sampleDict = {\n",
    "    'name' : 'Kelly',\n",
    "    'age' : 25,\n",
    "    'salary' : 8000,\n",
    "    'city' : 'New york'\n",
    " }\n",
    "keysToRemove = ['name', 'salary']\n",
    "\n",
    "sampleDict.pop('name')\n",
    "sampleDict.pop('salary')\n",
    "\n",
    "print(sampleDict)\n"
   ]
  },
  {
   "cell_type": "code",
   "execution_count": 41,
   "id": "0e6c23e4",
   "metadata": {},
   "outputs": [
    {
     "name": "stdout",
     "output_type": "stream",
     "text": [
      "True\n"
     ]
    }
   ],
   "source": [
    "#Checking if a value 200 exist in the dictionary\n",
    "sampleDict = {'a' : 100, 'b' : 200, 'c' : 300}\n",
    "values = sampleDict.values()\n",
    "\n",
    "print(200 in sampleDict.values())"
   ]
  },
  {
   "cell_type": "code",
   "execution_count": 42,
   "id": "a03b728f",
   "metadata": {},
   "outputs": [
    {
     "name": "stdout",
     "output_type": "stream",
     "text": [
      "{'name': 'Kelly', 'age': 25, 'salary': 8000, 'location': 'New york'}\n"
     ]
    }
   ],
   "source": [
    "#Rename Key city to location\n",
    "sampleDict = {\n",
    "    'name' : 'Kelly',\n",
    "    'age' : 25,\n",
    "    'salary' : 8000,\n",
    "    'city' : 'New york'\n",
    "}\n",
    "\n",
    "sampleDict['location'] = sampleDict.pop('city')\n",
    "print(sampleDict)"
   ]
  },
  {
   "cell_type": "code",
   "execution_count": 43,
   "id": "b60e5b68",
   "metadata": {},
   "outputs": [
    {
     "name": "stdout",
     "output_type": "stream",
     "text": [
      "Math\n"
     ]
    }
   ],
   "source": [
    "#Keys of Minimum Values\n",
    "sampleDict = {\n",
    "    'Physics' : 82,\n",
    "    'Math' : 65,\n",
    "    'history' : 75\n",
    "}\n",
    "print(min(sampleDict, key = sampleDict.get))"
   ]
  },
  {
   "cell_type": "code",
   "execution_count": 44,
   "id": "5c9618b9",
   "metadata": {},
   "outputs": [
    {
     "name": "stdout",
     "output_type": "stream",
     "text": [
      "{'emp1': {'name': 'Jhon', 'salary': 7500}, 'emp2': {'name': 'Emma', 'salary': 8000}, 'emp3': {'name': 'Brad', 'salary': 8500}}\n"
     ]
    }
   ],
   "source": [
    "#Changing Brad's salary to 8500\n",
    "sampleDict = {\n",
    "    'emp1' : {'name' : 'Jhon', 'salary' : 7500},\n",
    "    'emp2' : {'name' : 'Emma', 'salary' : 8000},\n",
    "    'emp3' : {'name' : 'Brad', 'salary' :6500}\n",
    "}\n",
    "\n",
    "sampleDict['emp3']['salary'] = 8500\n",
    "print(sampleDict)"
   ]
  },
  {
   "cell_type": "code",
   "execution_count": null,
   "id": "c2e7e49c",
   "metadata": {},
   "outputs": [],
   "source": []
  }
 ],
 "metadata": {
  "kernelspec": {
   "display_name": "Python 3",
   "language": "python",
   "name": "python3"
  },
  "language_info": {
   "codemirror_mode": {
    "name": "ipython",
    "version": 3
   },
   "file_extension": ".py",
   "mimetype": "text/x-python",
   "name": "python",
   "nbconvert_exporter": "python",
   "pygments_lexer": "ipython3",
   "version": "3.8.8"
  }
 },
 "nbformat": 4,
 "nbformat_minor": 5
}
