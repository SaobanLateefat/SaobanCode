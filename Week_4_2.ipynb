{
 "cells": [
  {
   "cell_type": "markdown",
   "id": "57852e88",
   "metadata": {},
   "source": [
    "# SETS\n",
    "\n",
    "Sets are unordered, Duplicates are not allowed. \n",
    "\n",
    "A set can be modified, but the element contained in the set must be of an immutable type.\n",
    "\n",
    "We Use the Curly bracket to define a set {}"
   ]
  },
  {
   "cell_type": "code",
   "execution_count": 1,
   "id": "a6fabeec",
   "metadata": {},
   "outputs": [],
   "source": [
    "x1 = {'foo', 'bar', 'baz'}\n",
    "\n",
    "x2 = {'baz', 'qux', 'quuz'} "
   ]
  },
  {
   "cell_type": "code",
   "execution_count": 2,
   "id": "f7016a6b",
   "metadata": {},
   "outputs": [
    {
     "data": {
      "text/plain": [
       "{'bar', 'baz', 'foo', 'quuz', 'qux'}"
      ]
     },
     "execution_count": 2,
     "metadata": {},
     "output_type": "execute_result"
    }
   ],
   "source": [
    "# Union of set x1 & x2\n",
    "x1 | x2"
   ]
  },
  {
   "cell_type": "code",
   "execution_count": 3,
   "id": "04fa7c9b",
   "metadata": {},
   "outputs": [
    {
     "data": {
      "text/plain": [
       "{'bar', 'baz', 'foo', 'quuz', 'qux'}"
      ]
     },
     "execution_count": 3,
     "metadata": {},
     "output_type": "execute_result"
    }
   ],
   "source": [
    "# Another way to do Union\n",
    "x1.union(x2)"
   ]
  },
  {
   "cell_type": "code",
   "execution_count": 4,
   "id": "454be79c",
   "metadata": {},
   "outputs": [
    {
     "data": {
      "text/plain": [
       "{1, 2, 3, 4, 5, 6, 7}"
      ]
     },
     "execution_count": 4,
     "metadata": {},
     "output_type": "execute_result"
    }
   ],
   "source": [
    "a = {1, 2, 3, 4}\n",
    "b = {2, 3, 4, 5}\n",
    "c = {3, 4, 5, 6}\n",
    "d = {4, 5, 6, 7}\n",
    "\n",
    "a | b | c | d"
   ]
  },
  {
   "cell_type": "code",
   "execution_count": 5,
   "id": "0d0fafe9",
   "metadata": {},
   "outputs": [
    {
     "data": {
      "text/plain": [
       "{1, 2, 3, 4, 5, 6, 7}"
      ]
     },
     "execution_count": 5,
     "metadata": {},
     "output_type": "execute_result"
    }
   ],
   "source": [
    "a.union(b, c, d)"
   ]
  },
  {
   "cell_type": "code",
   "execution_count": 6,
   "id": "c5f551ef",
   "metadata": {},
   "outputs": [
    {
     "data": {
      "text/plain": [
       "{'baz'}"
      ]
     },
     "execution_count": 6,
     "metadata": {},
     "output_type": "execute_result"
    }
   ],
   "source": [
    "# Intersection of sets\n",
    "x1 & x2"
   ]
  },
  {
   "cell_type": "code",
   "execution_count": 7,
   "id": "52cbe839",
   "metadata": {},
   "outputs": [
    {
     "data": {
      "text/plain": [
       "{'baz'}"
      ]
     },
     "execution_count": 7,
     "metadata": {},
     "output_type": "execute_result"
    }
   ],
   "source": [
    "# Another method to do intersection\n",
    "x1.intersection(x2)"
   ]
  },
  {
   "cell_type": "code",
   "execution_count": 8,
   "id": "97e0774c",
   "metadata": {},
   "outputs": [
    {
     "data": {
      "text/plain": [
       "{'bar', 'foo'}"
      ]
     },
     "execution_count": 8,
     "metadata": {},
     "output_type": "execute_result"
    }
   ],
   "source": [
    "# Difference of a set\n",
    "x1 - x2"
   ]
  },
  {
   "cell_type": "code",
   "execution_count": 9,
   "id": "8b16ef9a",
   "metadata": {},
   "outputs": [
    {
     "data": {
      "text/plain": [
       "{'quuz', 'qux'}"
      ]
     },
     "execution_count": 9,
     "metadata": {},
     "output_type": "execute_result"
    }
   ],
   "source": [
    "# Another Way to do difference of set\n",
    "x2.difference(x1)"
   ]
  },
  {
   "cell_type": "code",
   "execution_count": 10,
   "id": "73f0b8d7",
   "metadata": {},
   "outputs": [
    {
     "data": {
      "text/plain": [
       "{10, 20, 40}"
      ]
     },
     "execution_count": 10,
     "metadata": {},
     "output_type": "execute_result"
    }
   ],
   "source": [
    "a = {1, 2, 3, 30,300}\n",
    "b = {10, 20, 30, 40}\n",
    "c = {100, 200, 300, 400}\n",
    "\n",
    "b.difference(a,c)"
   ]
  },
  {
   "cell_type": "code",
   "execution_count": 11,
   "id": "028e7cbf",
   "metadata": {},
   "outputs": [
    {
     "data": {
      "text/plain": [
       "{'bar', 'foo', 'quuz', 'qux'}"
      ]
     },
     "execution_count": 11,
     "metadata": {},
     "output_type": "execute_result"
    }
   ],
   "source": [
    "# Symmetric difference returns element in all the set removing the intersection\n",
    "x1 ^ x2\n"
   ]
  },
  {
   "cell_type": "code",
   "execution_count": 12,
   "id": "85fce243",
   "metadata": {},
   "outputs": [
    {
     "data": {
      "text/plain": [
       "{'bar', 'foo', 'quuz', 'qux'}"
      ]
     },
     "execution_count": 12,
     "metadata": {},
     "output_type": "execute_result"
    }
   ],
   "source": [
    "# Another way to do symmetric difference\n",
    "x1.symmetric_difference(x2)"
   ]
  },
  {
   "cell_type": "code",
   "execution_count": 13,
   "id": "8968a45d",
   "metadata": {},
   "outputs": [
    {
     "data": {
      "text/plain": [
       "{5, 10, 100}"
      ]
     },
     "execution_count": 13,
     "metadata": {},
     "output_type": "execute_result"
    }
   ],
   "source": [
    "a = {1, 2, 3, 4, 5}\n",
    "b = {10, 2, 3, 4, 50}\n",
    "c = {1, 50, 100}\n",
    "\n",
    "a ^ b ^ c"
   ]
  },
  {
   "cell_type": "code",
   "execution_count": 14,
   "id": "8ef9a82d",
   "metadata": {},
   "outputs": [
    {
     "data": {
      "text/plain": [
       "False"
      ]
     },
     "execution_count": 14,
     "metadata": {},
     "output_type": "execute_result"
    }
   ],
   "source": [
    "# To Check if two sets are disjoint\n",
    "x1.isdisjoint(x2)"
   ]
  },
  {
   "cell_type": "code",
   "execution_count": 15,
   "id": "6a1906f8",
   "metadata": {},
   "outputs": [
    {
     "data": {
      "text/plain": [
       "True"
      ]
     },
     "execution_count": 15,
     "metadata": {},
     "output_type": "execute_result"
    }
   ],
   "source": [
    "# Subsets of a set\n",
    "# A set is said to be a subset of another if the elements in the first set is contained in the other\n",
    "\n",
    "x = {'foo', 'bar', 'baz'}\n",
    "y = {'foo', 'bar', 'baz', 'qux', 'quux'}\n",
    "\n",
    "x.issubset(y)"
   ]
  },
  {
   "cell_type": "code",
   "execution_count": 16,
   "id": "da2492eb",
   "metadata": {},
   "outputs": [
    {
     "data": {
      "text/plain": [
       "True"
      ]
     },
     "execution_count": 16,
     "metadata": {},
     "output_type": "execute_result"
    }
   ],
   "source": [
    "# Another Way to do subset\n",
    "\n",
    "x <= y"
   ]
  },
  {
   "cell_type": "code",
   "execution_count": 17,
   "id": "3db902d0",
   "metadata": {},
   "outputs": [
    {
     "data": {
      "text/plain": [
       "False"
      ]
     },
     "execution_count": 17,
     "metadata": {},
     "output_type": "execute_result"
    }
   ],
   "source": [
    "y <= x\n",
    "# This ans is false cause y is not a subset of x"
   ]
  },
  {
   "cell_type": "code",
   "execution_count": 18,
   "id": "4c80a67d",
   "metadata": {},
   "outputs": [
    {
     "data": {
      "text/plain": [
       "True"
      ]
     },
     "execution_count": 18,
     "metadata": {},
     "output_type": "execute_result"
    }
   ],
   "source": [
    "''' To Check if a set is super set of another\n",
    "its the reverse of subset\n",
    "\n",
    "i.e  Every element of x is contained in y , So y is a super set of x'''\n",
    "\n",
    "y.issuperset(x)"
   ]
  },
  {
   "cell_type": "code",
   "execution_count": 19,
   "id": "14904095",
   "metadata": {},
   "outputs": [
    {
     "data": {
      "text/plain": [
       "True"
      ]
     },
     "execution_count": 19,
     "metadata": {},
     "output_type": "execute_result"
    }
   ],
   "source": [
    "y >= x"
   ]
  },
  {
   "cell_type": "code",
   "execution_count": 23,
   "id": "2d64f365",
   "metadata": {},
   "outputs": [
    {
     "data": {
      "text/plain": [
       "{'bar', 'baz', 'foo', 'num'}"
      ]
     },
     "execution_count": 23,
     "metadata": {},
     "output_type": "execute_result"
    }
   ],
   "source": [
    "# Modification of sets\n",
    "# Adding an item\n",
    "xx = {'foo', 'bar', 'baz'}\n",
    "\n",
    "xx.add('num')\n",
    "xx"
   ]
  },
  {
   "cell_type": "code",
   "execution_count": 24,
   "id": "fd65f029",
   "metadata": {},
   "outputs": [
    {
     "data": {
      "text/plain": [
       "{'bar', 'foo', 'num'}"
      ]
     },
     "execution_count": 24,
     "metadata": {},
     "output_type": "execute_result"
    }
   ],
   "source": [
    "# Removing of item\n",
    "xx.remove('baz')\n",
    "\n",
    "xx"
   ]
  },
  {
   "cell_type": "code",
   "execution_count": 26,
   "id": "a4a7c9c2",
   "metadata": {},
   "outputs": [
    {
     "data": {
      "text/plain": [
       "{'bar', 'foo', 'num'}"
      ]
     },
     "execution_count": 26,
     "metadata": {},
     "output_type": "execute_result"
    }
   ],
   "source": [
    "# Difference between discard and remove \n",
    "# For Discard , if the element is not there, it will just bring it back the last code but won't throw an error unlike remove which will throw an error if the element is not there\n",
    "\n",
    "xx.discard('baz')\n",
    "xx"
   ]
  },
  {
   "cell_type": "code",
   "execution_count": 27,
   "id": "ca8b9011",
   "metadata": {},
   "outputs": [
    {
     "data": {
      "text/plain": [
       "{'foo', 'num'}"
      ]
     },
     "execution_count": 27,
     "metadata": {},
     "output_type": "execute_result"
    }
   ],
   "source": [
    "# Pop removes any element in the set\n",
    "\n",
    "xx.pop()\n",
    "\n",
    "xx"
   ]
  },
  {
   "cell_type": "code",
   "execution_count": null,
   "id": "67feddd0",
   "metadata": {},
   "outputs": [],
   "source": []
  }
 ],
 "metadata": {
  "kernelspec": {
   "display_name": "Python 3",
   "language": "python",
   "name": "python3"
  },
  "language_info": {
   "codemirror_mode": {
    "name": "ipython",
    "version": 3
   },
   "file_extension": ".py",
   "mimetype": "text/x-python",
   "name": "python",
   "nbconvert_exporter": "python",
   "pygments_lexer": "ipython3",
   "version": "3.8.8"
  }
 },
 "nbformat": 4,
 "nbformat_minor": 5
}
