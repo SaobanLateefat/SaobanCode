{
 "cells": [
  {
   "cell_type": "markdown",
   "id": "a042b834",
   "metadata": {},
   "source": [
    "Exercise 2"
   ]
  },
  {
   "cell_type": "code",
   "execution_count": 27,
   "id": "7a8714f4",
   "metadata": {},
   "outputs": [
    {
     "name": "stdout",
     "output_type": "stream",
     "text": [
      "[1, 2, 3, 4, 5, 1, 2, 3, 4, 5, 1, 2, 3, 4, 5]\n"
     ]
    }
   ],
   "source": [
    "# 2a\n",
    "x = [1, 2, 3, 4, 5]\n",
    "y = [11, 12, 13, 14, 15]\n",
    "z = (21, 22, 23, 24, 25)\n",
    "\n",
    "print(3 * x)"
   ]
  },
  {
   "cell_type": "code",
   "execution_count": 30,
   "id": "328d66c1",
   "metadata": {},
   "outputs": [
    {
     "name": "stdout",
     "output_type": "stream",
     "text": [
      "[12, 14, 16, 18, 20]\n"
     ]
    }
   ],
   "source": [
    "# 2b\n",
    "add = [sum(i) for i in zip(x, y)]\n",
    "print(add)"
   ]
  },
  {
   "cell_type": "code",
   "execution_count": 4,
   "id": "ac137e61",
   "metadata": {},
   "outputs": [
    {
     "name": "stdout",
     "output_type": "stream",
     "text": [
      "[-10, -10, -10, -10, -10]\n"
     ]
    }
   ],
   "source": [
    "# 2c\n",
    "sub = [ i1 - i2 for (i1 , i2) in zip(x, y)]\n",
    "print(sub)"
   ]
  },
  {
   "cell_type": "code",
   "execution_count": 5,
   "id": "7a188085",
   "metadata": {},
   "outputs": [
    {
     "name": "stdout",
     "output_type": "stream",
     "text": [
      "2\n"
     ]
    }
   ],
   "source": [
    "# 2d\n",
    "print(x[1])"
   ]
  },
  {
   "cell_type": "code",
   "execution_count": 6,
   "id": "672261b6",
   "metadata": {},
   "outputs": [
    {
     "name": "stdout",
     "output_type": "stream",
     "text": [
      "1\n"
     ]
    }
   ],
   "source": [
    "# 2e\n",
    "print(x[0])"
   ]
  },
  {
   "cell_type": "code",
   "execution_count": 7,
   "id": "ed643afa",
   "metadata": {},
   "outputs": [
    {
     "name": "stdout",
     "output_type": "stream",
     "text": [
      "5\n"
     ]
    }
   ],
   "source": [
    "# 2f\n",
    "print(x[-1])"
   ]
  },
  {
   "cell_type": "code",
   "execution_count": 8,
   "id": "3e2b014c",
   "metadata": {},
   "outputs": [
    {
     "name": "stdout",
     "output_type": "stream",
     "text": [
      "[1, 2, 3, 4, 5]\n"
     ]
    }
   ],
   "source": [
    "# 2g\n",
    "print(x[:])"
   ]
  },
  {
   "cell_type": "code",
   "execution_count": 10,
   "id": "3b479760",
   "metadata": {},
   "outputs": [
    {
     "name": "stdout",
     "output_type": "stream",
     "text": [
      "[3, 4]\n"
     ]
    }
   ],
   "source": [
    "# 2h\n",
    "print(x[2:4])"
   ]
  },
  {
   "cell_type": "code",
   "execution_count": 11,
   "id": "a39173be",
   "metadata": {},
   "outputs": [
    {
     "name": "stdout",
     "output_type": "stream",
     "text": [
      "[2, 4]\n"
     ]
    }
   ],
   "source": [
    "# 2i\n",
    "print(x[1:4:2])"
   ]
  },
  {
   "cell_type": "code",
   "execution_count": 12,
   "id": "c3573b10",
   "metadata": {},
   "outputs": [
    {
     "name": "stdout",
     "output_type": "stream",
     "text": [
      "[1, 2]\n"
     ]
    }
   ],
   "source": [
    "# 2j\n",
    "print(x[:2])"
   ]
  },
  {
   "cell_type": "code",
   "execution_count": 15,
   "id": "9d2cd61d",
   "metadata": {},
   "outputs": [
    {
     "name": "stdout",
     "output_type": "stream",
     "text": [
      "[1, 3, 5]\n"
     ]
    }
   ],
   "source": [
    "# 2k\n",
    "print(x[::2])"
   ]
  },
  {
   "cell_type": "code",
   "execution_count": 16,
   "id": "bedc9be5",
   "metadata": {},
   "outputs": [
    {
     "name": "stdout",
     "output_type": "stream",
     "text": [
      "[1, 2, 3, 8, 5]\n"
     ]
    }
   ],
   "source": [
    "# 2l\n",
    "m = x[3] = 8\n",
    "print(x)"
   ]
  },
  {
   "cell_type": "code",
   "execution_count": 20,
   "id": "d20b0a72",
   "metadata": {},
   "outputs": [],
   "source": [
    "# 2m\n",
    "# A tuple is unchangable"
   ]
  },
  {
   "cell_type": "code",
   "execution_count": 22,
   "id": "1f8ad883",
   "metadata": {},
   "outputs": [
    {
     "name": "stdout",
     "output_type": "stream",
     "text": [
      "abcdeabcdeabcde\n"
     ]
    }
   ],
   "source": [
    "# 3a\n",
    "s = 'abcde'\n",
    "print(3 * s)"
   ]
  },
  {
   "cell_type": "code",
   "execution_count": 24,
   "id": "6485ac05",
   "metadata": {},
   "outputs": [
    {
     "name": "stdout",
     "output_type": "stream",
     "text": [
      "b\n"
     ]
    }
   ],
   "source": [
    "# 3b\n",
    "print(s[1])"
   ]
  },
  {
   "cell_type": "code",
   "execution_count": 25,
   "id": "7b3947b1",
   "metadata": {},
   "outputs": [
    {
     "name": "stdout",
     "output_type": "stream",
     "text": [
      "e\n"
     ]
    }
   ],
   "source": [
    "# 3c\n",
    "print(s[-1])"
   ]
  },
  {
   "cell_type": "code",
   "execution_count": 26,
   "id": "217ba183",
   "metadata": {},
   "outputs": [
    {
     "name": "stdout",
     "output_type": "stream",
     "text": [
      "ace\n"
     ]
    }
   ],
   "source": [
    "# 3d\n",
    "print(s[::2])"
   ]
  },
  {
   "cell_type": "code",
   "execution_count": null,
   "id": "e041d687",
   "metadata": {},
   "outputs": [],
   "source": [
    "# 4\n"
   ]
  },
  {
   "cell_type": "code",
   "execution_count": 31,
   "id": "2bbee66d",
   "metadata": {},
   "outputs": [
    {
     "name": "stdout",
     "output_type": "stream",
     "text": [
      "How many numbers are in first list: \t4\n",
      "How many numbers are in second list: \t4\n",
      "\n",
      "First sets of numbers: \t [86, 33, 80, 65]\n",
      "\n",
      "Second sets of numbers: \t [19, 8, 57, 75]\n",
      "\n",
      "Addition of numbers: \t [105, 41, 137, 140]\n"
     ]
    }
   ],
   "source": [
    "# 5\n",
    "# For random numbers\n",
    "#p = [3, 1, 4, 1, 5, 9, 2, 6, 5, 3, 5, 8, 9, 7, 9, 3, 2, 3, 8, 5]\n",
    "#q = [2, 7, 1, 8, 2, 8, 1, 8, 2, 8, 4, 5, 9, 0, 4, 5, 5, 3, 4, 9]\n",
    "\n",
    "import random\n",
    "\n",
    "value1 = eval(input('How many numbers are in first list: \\t'))\n",
    "value2 = eval(input('How many numbers are in second list: \\t'))\n",
    "\n",
    "import random\n",
    "p = []\n",
    "q = []\n",
    "\n",
    "\n",
    "for i in range (value1):\n",
    "    p.append(random.randint(0,100))\n",
    "print()\n",
    "print('First sets of numbers: \\t', p)\n",
    "\n",
    "for i in range (value2):\n",
    "    q.append(random.randint(0,100))\n",
    "print()\n",
    "print('Second sets of numbers: \\t', q)\n",
    "\n",
    "add = [sum(i) for i in zip(p, q)]\n",
    "print()\n",
    "print('Addition of numbers: \\t', add)\n",
    "\n"
   ]
  },
  {
   "cell_type": "code",
   "execution_count": 4,
   "id": "0622eb85",
   "metadata": {},
   "outputs": [
    {
     "name": "stdout",
     "output_type": "stream",
     "text": [
      "\n",
      "Addition of numbers: \t [5, 8, 5, 9, 7, 17, 3, 14, 7, 11, 9, 13, 18, 7, 13, 8, 7, 6, 12, 14]\n"
     ]
    }
   ],
   "source": [
    "# 5a\n",
    "# Addition of numbers\n",
    "r = [3, 1, 4, 1, 5, 9, 2, 6, 5, 3, 5, 8, 9, 7, 9, 3, 2, 3, 8, 5]\n",
    "s = [2, 7, 1, 8, 2, 8, 1, 8, 2, 8, 4, 5, 9, 0, 4, 5, 5, 3, 4, 9]\n",
    "\n",
    "add = [sum(i) for i in zip(r, s)]\n",
    "print()\n",
    "print('Addition of numbers: \\t', add)"
   ]
  },
  {
   "cell_type": "code",
   "execution_count": 6,
   "id": "c95e0358",
   "metadata": {},
   "outputs": [
    {
     "name": "stdout",
     "output_type": "stream",
     "text": [
      "[45, 15, 60, 15, 75, 135, 30, 90, 75, 45, 75, 120, 135, 105, 135, 45, 30, 45, 120, 75]\n"
     ]
    }
   ],
   "source": [
    "# 5b\n",
    "mult = [i * 15 for i in r]\n",
    "print(mult)"
   ]
  },
  {
   "cell_type": "code",
   "execution_count": null,
   "id": "891b9430",
   "metadata": {},
   "outputs": [],
   "source": []
  }
 ],
 "metadata": {
  "kernelspec": {
   "display_name": "Python 3",
   "language": "python",
   "name": "python3"
  },
  "language_info": {
   "codemirror_mode": {
    "name": "ipython",
    "version": 3
   },
   "file_extension": ".py",
   "mimetype": "text/x-python",
   "name": "python",
   "nbconvert_exporter": "python",
   "pygments_lexer": "ipython3",
   "version": "3.8.8"
  }
 },
 "nbformat": 4,
 "nbformat_minor": 5
}
