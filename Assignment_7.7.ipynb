{
 "cells": [
  {
   "cell_type": "code",
   "execution_count": 10,
   "id": "44050d51",
   "metadata": {},
   "outputs": [
    {
     "name": "stdout",
     "output_type": "stream",
     "text": [
      "Enter a list of integers: [1,5,2,6,24]\n",
      "5\n"
     ]
    }
   ],
   "source": [
    "#Collection Of list from user.\n",
    "#Total number of items\n",
    "num = eval(input(\"Enter a list of integers: \"))\n",
    "\n",
    "\n",
    "print(len(num))"
   ]
  },
  {
   "cell_type": "code",
   "execution_count": 11,
   "id": "677144dd",
   "metadata": {},
   "outputs": [
    {
     "name": "stdout",
     "output_type": "stream",
     "text": [
      "24\n"
     ]
    }
   ],
   "source": [
    "#The last number on the list.\n",
    "print(num[-1])"
   ]
  },
  {
   "cell_type": "code",
   "execution_count": 12,
   "id": "90c4b9e6",
   "metadata": {},
   "outputs": [
    {
     "name": "stdout",
     "output_type": "stream",
     "text": [
      "[24, 6, 2, 5, 1]\n"
     ]
    }
   ],
   "source": [
    "#Reversing the list.\n",
    "num.reverse()\n",
    "print(num)"
   ]
  },
  {
   "cell_type": "code",
   "execution_count": 13,
   "id": "e3c8c5ce",
   "metadata": {},
   "outputs": [
    {
     "name": "stdout",
     "output_type": "stream",
     "text": [
      "[6, 2, 5, 1]\n"
     ]
    }
   ],
   "source": [
    "#Removing first number\n",
    "num.remove(num[0])\n",
    "print(num)"
   ]
  },
  {
   "cell_type": "code",
   "execution_count": 14,
   "id": "b18a89d6",
   "metadata": {},
   "outputs": [
    {
     "name": "stdout",
     "output_type": "stream",
     "text": [
      "[6, 2, 5]\n"
     ]
    }
   ],
   "source": [
    "#Remove last number\n",
    "num.remove(num[-1])\n",
    "print(num)"
   ]
  },
  {
   "cell_type": "code",
   "execution_count": 16,
   "id": "de1f5919",
   "metadata": {},
   "outputs": [
    {
     "name": "stdout",
     "output_type": "stream",
     "text": [
      "[2, 5, 6]\n"
     ]
    }
   ],
   "source": [
    "num.sort()\n",
    "print(num)"
   ]
  },
  {
   "cell_type": "markdown",
   "id": "a8387357",
   "metadata": {},
   "source": [
    "# Exercise 2"
   ]
  },
  {
   "cell_type": "code",
   "execution_count": 18,
   "id": "42fca457",
   "metadata": {},
   "outputs": [
    {
     "name": "stdout",
     "output_type": "stream",
     "text": [
      "[0, 76, 39, 45, 17, 28, 18, 15, 66, 6, 30, 17, 59, 44, 27, 26, 93, 20, 44, 53]\n"
     ]
    }
   ],
   "source": [
    "#Import twenty random numbers.\n",
    "import random\n",
    "lit = []\n",
    "\n",
    "for i in range (20):\n",
    "    lit.append(random.randint(0,100))\n",
    "print(lit)\n"
   ]
  },
  {
   "cell_type": "code",
   "execution_count": 19,
   "id": "c987753c",
   "metadata": {},
   "outputs": [
    {
     "name": "stdout",
     "output_type": "stream",
     "text": [
      "36.15\n"
     ]
    }
   ],
   "source": [
    "#Average of elements in the list.\n",
    "avg = sum(lit)/len(lit)\n",
    "print(avg)"
   ]
  },
  {
   "cell_type": "code",
   "execution_count": 21,
   "id": "e12c174c",
   "metadata": {},
   "outputs": [
    {
     "name": "stdout",
     "output_type": "stream",
     "text": [
      "93\n"
     ]
    }
   ],
   "source": [
    "#Highest value\n",
    "maximum = max(lit)\n",
    "print(maximum)"
   ]
  },
  {
   "cell_type": "code",
   "execution_count": 22,
   "id": "75a9e6b5",
   "metadata": {},
   "outputs": [
    {
     "name": "stdout",
     "output_type": "stream",
     "text": [
      "0\n"
     ]
    }
   ],
   "source": [
    "#Lowest value\n",
    "minimum = min(lit)\n",
    "print(minimum)"
   ]
  },
  {
   "cell_type": "code",
   "execution_count": 23,
   "id": "b12252d0",
   "metadata": {},
   "outputs": [
    {
     "name": "stdout",
     "output_type": "stream",
     "text": [
      "76\n"
     ]
    }
   ],
   "source": [
    "#Second largest\n",
    "lit.sort()\n",
    "print(lit[-2])"
   ]
  },
  {
   "cell_type": "code",
   "execution_count": 24,
   "id": "9d5dac29",
   "metadata": {},
   "outputs": [
    {
     "name": "stdout",
     "output_type": "stream",
     "text": [
      "6\n"
     ]
    }
   ],
   "source": [
    "#Second Smallest\n",
    "print(lit[1])"
   ]
  },
  {
   "cell_type": "markdown",
   "id": "1094030c",
   "metadata": {},
   "source": [
    "# Exercise 3\n"
   ]
  },
  {
   "cell_type": "code",
   "execution_count": 46,
   "id": "2c6eff6d",
   "metadata": {},
   "outputs": [
    {
     "name": "stdout",
     "output_type": "stream",
     "text": [
      "[8, 9, 10]\n"
     ]
    }
   ],
   "source": [
    "#lists\n",
    "L = [8,9,10]\n",
    "print(L)"
   ]
  },
  {
   "cell_type": "code",
   "execution_count": 47,
   "id": "09792a5b",
   "metadata": {},
   "outputs": [
    {
     "name": "stdout",
     "output_type": "stream",
     "text": [
      "[8, 17, 10]\n"
     ]
    }
   ],
   "source": [
    "#Changing Second entry\n",
    "L[1] = 17\n",
    "print(L)"
   ]
  },
  {
   "cell_type": "code",
   "execution_count": 48,
   "id": "c60b6b4f",
   "metadata": {},
   "outputs": [
    {
     "name": "stdout",
     "output_type": "stream",
     "text": [
      "[8, 17, 10, 4, 5, 6]\n"
     ]
    }
   ],
   "source": [
    "#Add entries.\n",
    "L.append(4)\n",
    "L.append(5)\n",
    "L.append(6)\n",
    "print(L)"
   ]
  },
  {
   "cell_type": "code",
   "execution_count": 49,
   "id": "bbac2da3",
   "metadata": {},
   "outputs": [
    {
     "name": "stdout",
     "output_type": "stream",
     "text": [
      "[17, 10, 4, 5, 6]\n"
     ]
    }
   ],
   "source": [
    "#Remove first entry\n",
    "L.remove(L[0])\n",
    "print(L)"
   ]
  },
  {
   "cell_type": "code",
   "execution_count": 50,
   "id": "fd729eea",
   "metadata": {},
   "outputs": [
    {
     "name": "stdout",
     "output_type": "stream",
     "text": [
      "[4, 5, 6, 10, 17]\n"
     ]
    }
   ],
   "source": [
    "#Sort list\n",
    "L.sort()\n",
    "print(L)"
   ]
  },
  {
   "cell_type": "code",
   "execution_count": 51,
   "id": "86afeff0",
   "metadata": {},
   "outputs": [
    {
     "name": "stdout",
     "output_type": "stream",
     "text": [
      "[4, 5, 6, 10, 17, 4, 5, 6, 10, 17]\n"
     ]
    }
   ],
   "source": [
    "#Double List\n",
    "Double = L*2\n",
    "print(Double)"
   ]
  },
  {
   "cell_type": "code",
   "execution_count": 52,
   "id": "4a79a6b2",
   "metadata": {},
   "outputs": [
    {
     "name": "stdout",
     "output_type": "stream",
     "text": [
      "[4, 5, 6, 25, 10, 17, 4, 5, 6, 10, 17]\n"
     ]
    }
   ],
   "source": [
    "#Insert 25 at index 3\n",
    "Double.insert(3,25)\n",
    "print(Double)"
   ]
  },
  {
   "cell_type": "code",
   "execution_count": null,
   "id": "0aa4f3f0",
   "metadata": {},
   "outputs": [],
   "source": []
  }
 ],
 "metadata": {
  "kernelspec": {
   "display_name": "Python 3",
   "language": "python",
   "name": "python3"
  },
  "language_info": {
   "codemirror_mode": {
    "name": "ipython",
    "version": 3
   },
   "file_extension": ".py",
   "mimetype": "text/x-python",
   "name": "python",
   "nbconvert_exporter": "python",
   "pygments_lexer": "ipython3",
   "version": "3.8.8"
  }
 },
 "nbformat": 4,
 "nbformat_minor": 5
}
