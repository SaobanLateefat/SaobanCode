{
 "cells": [
  {
   "cell_type": "markdown",
   "id": "adf827b2",
   "metadata": {},
   "source": [
    "# TUPLES"
   ]
  },
  {
   "cell_type": "markdown",
   "id": "d47c35c0",
   "metadata": {},
   "source": [
    "#### These are ordered and unchangable\n",
    "It is defined by using parenthesis (), They also allow duplicates"
   ]
  },
  {
   "cell_type": "code",
   "execution_count": 1,
   "id": "d60304ca",
   "metadata": {},
   "outputs": [
    {
     "data": {
      "text/plain": [
       "'Apple'"
      ]
     },
     "execution_count": 1,
     "metadata": {},
     "output_type": "execute_result"
    }
   ],
   "source": [
    "mytuple = ('Apple','Banana','Cherry')\n",
    "mytuple[0]"
   ]
  },
  {
   "cell_type": "code",
   "execution_count": 3,
   "id": "2b0389f9",
   "metadata": {},
   "outputs": [
    {
     "name": "stdout",
     "output_type": "stream",
     "text": [
      "<class 'tuple'>\n"
     ]
    }
   ],
   "source": [
    "print(type(mytuple))"
   ]
  },
  {
   "cell_type": "code",
   "execution_count": 4,
   "id": "ec80ae4d",
   "metadata": {},
   "outputs": [
    {
     "name": "stdout",
     "output_type": "stream",
     "text": [
      "3\n"
     ]
    }
   ],
   "source": [
    "print(len(mytuple))"
   ]
  },
  {
   "cell_type": "code",
   "execution_count": 7,
   "id": "0451a3e4",
   "metadata": {},
   "outputs": [
    {
     "name": "stdout",
     "output_type": "stream",
     "text": [
      "2\n"
     ]
    }
   ],
   "source": [
    "mytuple = ('apple',(1,2,3),'banana','cherry')\n",
    "print(mytuple[1][1])"
   ]
  },
  {
   "cell_type": "markdown",
   "id": "c60f7c4d",
   "metadata": {},
   "source": [
    "## DICTIONARY\n",
    "They are used to store data values in key : value pairs\n",
    "It is ordered, changable and does not allow duplicates\n",
    "They are written using curly bracket {}\n",
    "N:B -- Keys are always in quotation, while values are not except they are strings.\n",
    "Dictionary doesn't allow duplicates"
   ]
  },
  {
   "cell_type": "code",
   "execution_count": 5,
   "id": "d55d76b0",
   "metadata": {},
   "outputs": [
    {
     "name": "stdout",
     "output_type": "stream",
     "text": [
      "{'brand': ['Ford', 'Toyota', 'Honda'], 'model': 'Mustang', 'year': 1964}\n"
     ]
    }
   ],
   "source": [
    "thisdict = {\n",
    "    'brand' : ['Ford', 'Toyota', 'Honda'],\n",
    "    'model' : 'Mustang',\n",
    "    'year' : 1964\n",
    "}\n",
    "print(thisdict)"
   ]
  },
  {
   "cell_type": "code",
   "execution_count": 14,
   "id": "9ad8e7e9",
   "metadata": {},
   "outputs": [
    {
     "name": "stdout",
     "output_type": "stream",
     "text": [
      "['Ford', 'Toyota', 'Honda']\n"
     ]
    }
   ],
   "source": [
    "print(thisdict['brand'])"
   ]
  },
  {
   "cell_type": "code",
   "execution_count": 18,
   "id": "4eb263b3",
   "metadata": {},
   "outputs": [
    {
     "name": "stdout",
     "output_type": "stream",
     "text": [
      "{'brand': ['Ford', 'Toyota', 'Honda'], 'model': 'Mustang', 'year': 1964, 'color': 'white'}\n"
     ]
    }
   ],
   "source": [
    "thisdict['color'] = 'white'\n",
    "print(thisdict)"
   ]
  },
  {
   "cell_type": "code",
   "execution_count": 19,
   "id": "d76a4f7e",
   "metadata": {},
   "outputs": [
    {
     "name": "stdout",
     "output_type": "stream",
     "text": [
      "{'brand': ['Ford', 'Toyota', 'Honda'], 'model': 'Mustang', 'year': 2018, 'color': 'white'}\n"
     ]
    }
   ],
   "source": [
    "thisdict['year'] = 2018\n",
    "print(thisdict)"
   ]
  },
  {
   "cell_type": "code",
   "execution_count": 20,
   "id": "2250dc3c",
   "metadata": {},
   "outputs": [
    {
     "name": "stdout",
     "output_type": "stream",
     "text": [
      "{'brand': ['Ford', 'Toyota', 'Honda'], 'model': 'Mustang', 'year': 2018, 'color': 'red'}\n"
     ]
    }
   ],
   "source": [
    "thisdict.update({'color' : 'red'})\n",
    "print(thisdict)"
   ]
  },
  {
   "cell_type": "code",
   "execution_count": 21,
   "id": "5968f6f8",
   "metadata": {},
   "outputs": [
    {
     "name": "stdout",
     "output_type": "stream",
     "text": [
      "{'brand': ['Ford', 'Toyota', 'Honda'], 'year': 2018, 'color': 'red'}\n"
     ]
    }
   ],
   "source": [
    "thisdict.pop('model')\n",
    "print(thisdict)"
   ]
  },
  {
   "cell_type": "code",
   "execution_count": 22,
   "id": "ba7353e0",
   "metadata": {},
   "outputs": [
    {
     "name": "stdout",
     "output_type": "stream",
     "text": [
      "{'brand': ['Ford', 'Toyota', 'Honda'], 'year': 2018}\n"
     ]
    }
   ],
   "source": [
    "thisdict.popitem()\n",
    "print(thisdict)"
   ]
  },
  {
   "cell_type": "code",
   "execution_count": 25,
   "id": "4a8dfd18",
   "metadata": {},
   "outputs": [
    {
     "name": "stdout",
     "output_type": "stream",
     "text": [
      "{'Child1': {'name': 'Emil', 'year': 2004}, 'Child2': {'name': 'Tobias', 'year': 2007}, 'Child3': {'name': 'Linus', 'year': 2011}}\n"
     ]
    }
   ],
   "source": [
    "myfamily = {\n",
    "    'Child1' : {\n",
    "        'name' : 'Emil',\n",
    "        'year' : 2004\n",
    "    },\n",
    "    \n",
    "    'Child2' : {\n",
    "        'name' : 'Tobias',\n",
    "        'year' : 2007\n",
    "    },\n",
    "    'Child3' : {\n",
    "        'name' : 'Linus',\n",
    "        'year' : 2011\n",
    "    }\n",
    "}\n",
    "\n",
    "print(myfamily)"
   ]
  },
  {
   "cell_type": "code",
   "execution_count": 28,
   "id": "2258c124",
   "metadata": {},
   "outputs": [
    {
     "name": "stdout",
     "output_type": "stream",
     "text": [
      "{'name': 'Emil', 'year': 2004}\n",
      "Emil\n"
     ]
    }
   ],
   "source": [
    "print(myfamily['Child1'])\n",
    "print(myfamily['Child1']['name'])"
   ]
  },
  {
   "cell_type": "code",
   "execution_count": null,
   "id": "9b237052",
   "metadata": {},
   "outputs": [],
   "source": []
  }
 ],
 "metadata": {
  "kernelspec": {
   "display_name": "Python 3",
   "language": "python",
   "name": "python3"
  },
  "language_info": {
   "codemirror_mode": {
    "name": "ipython",
    "version": 3
   },
   "file_extension": ".py",
   "mimetype": "text/x-python",
   "name": "python",
   "nbconvert_exporter": "python",
   "pygments_lexer": "ipython3",
   "version": "3.8.8"
  }
 },
 "nbformat": 4,
 "nbformat_minor": 5
}
