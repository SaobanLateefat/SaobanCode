{
 "cells": [
  {
   "cell_type": "markdown",
   "id": "a746e538",
   "metadata": {},
   "source": [
    "# User input function"
   ]
  },
  {
   "cell_type": "code",
   "execution_count": 3,
   "id": "b91fd0d7",
   "metadata": {},
   "outputs": [
    {
     "name": "stdout",
     "output_type": "stream",
     "text": [
      "Enter the first number:12\n",
      "Enter the second number:13\n",
      "Enter the third number:14\n",
      "\n",
      "The sum of the three numbers is:  39\n"
     ]
    }
   ],
   "source": [
    "a = int(input(\"Enter the first number:\"))\n",
    "b = int(input(\"Enter the second number:\"))\n",
    "c = int(input(\"Enter the third number:\"))\n",
    "\n",
    "\n",
    "z = a + b + c\n",
    "\n",
    "print()\n",
    "print(\"The sum of the three numbers is: \", z)"
   ]
  },
  {
   "cell_type": "code",
   "execution_count": 4,
   "id": "35446458",
   "metadata": {},
   "outputs": [
    {
     "name": "stdout",
     "output_type": "stream",
     "text": [
      "Enter the coefficient of x**2:1\n",
      "Enter the coefficient of x:0\n",
      "Enter the constant:-1\n",
      "\n",
      "1.0\n",
      "\n",
      "-1.0\n"
     ]
    }
   ],
   "source": [
    "a = int(input(\"Enter the coefficient of x**2:\"))\n",
    "b = int(input(\"Enter the coefficient of x:\"))\n",
    "c = int(input(\"Enter the constant:\"))\n",
    "\n",
    "X1 = (-b+(b**2-(4*a*c))**0.5)/2*a\n",
    "X2 = (-b-(b**2-(4*a*c))**0.5)/2*a\n",
    "\n",
    "print()\n",
    "print(X1)\n",
    "print()\n",
    "print(X2)"
   ]
  },
  {
   "cell_type": "markdown",
   "id": "7110264b",
   "metadata": {},
   "source": [
    "# Logical Operators "
   ]
  },
  {
   "cell_type": "code",
   "execution_count": null,
   "id": "90e61b60",
   "metadata": {},
   "outputs": [],
   "source": [
    "# And gate will only give true, when all conditions are true.\n",
    "# Or gate will give true, if just one condition is true."
   ]
  },
  {
   "cell_type": "code",
   "execution_count": 5,
   "id": "f49adbaa",
   "metadata": {},
   "outputs": [
    {
     "name": "stdout",
     "output_type": "stream",
     "text": [
      "False\n"
     ]
    }
   ],
   "source": [
    "x = 12\n",
    "print(x < 5 and x > 8)"
   ]
  },
  {
   "cell_type": "code",
   "execution_count": 6,
   "id": "ee98a797",
   "metadata": {},
   "outputs": [
    {
     "name": "stdout",
     "output_type": "stream",
     "text": [
      "True\n"
     ]
    }
   ],
   "source": [
    "x = 12\n",
    "print(x < 5 or x > 8)"
   ]
  },
  {
   "cell_type": "markdown",
   "id": "986163bc",
   "metadata": {},
   "source": [
    "# List."
   ]
  },
  {
   "cell_type": "code",
   "execution_count": 1,
   "id": "8f4e9433",
   "metadata": {},
   "outputs": [],
   "source": [
    "#Used to store multiple items in a single variable. Must be in a square bracket."
   ]
  },
  {
   "cell_type": "code",
   "execution_count": 3,
   "id": "49acb352",
   "metadata": {},
   "outputs": [
    {
     "name": "stdout",
     "output_type": "stream",
     "text": [
      "['apple', 'banana', 'cherry']\n",
      "<class 'list'>\n"
     ]
    }
   ],
   "source": [
    "fruits =[\"apple\", \"banana\", \"cherry\"]\n",
    "\n",
    "print(fruits)\n",
    "\n",
    "print(type(fruits))"
   ]
  },
  {
   "cell_type": "code",
   "execution_count": 5,
   "id": "89b6a072",
   "metadata": {},
   "outputs": [
    {
     "name": "stdout",
     "output_type": "stream",
     "text": [
      "apple\n"
     ]
    }
   ],
   "source": [
    "print(fruits[0])"
   ]
  },
  {
   "cell_type": "code",
   "execution_count": 7,
   "id": "4c72ae10",
   "metadata": {},
   "outputs": [
    {
     "name": "stdout",
     "output_type": "stream",
     "text": [
      "['apple', 'mango', 'cherry']\n"
     ]
    }
   ],
   "source": [
    "fruits[1] = \"mango\"\n",
    "print(fruits)"
   ]
  },
  {
   "cell_type": "code",
   "execution_count": 11,
   "id": "e8537c3d",
   "metadata": {},
   "outputs": [
    {
     "name": "stdout",
     "output_type": "stream",
     "text": [
      "['apple', 'mango', 'cherry', 'pear']\n"
     ]
    }
   ],
   "source": [
    "fruits.append(\"pear\")\n",
    "print(fruits)"
   ]
  },
  {
   "cell_type": "code",
   "execution_count": 12,
   "id": "759952fd",
   "metadata": {},
   "outputs": [
    {
     "name": "stdout",
     "output_type": "stream",
     "text": [
      "['apple', 'mango', 'cherry']\n"
     ]
    }
   ],
   "source": [
    "fruits.remove(\"pear\")\n",
    "print(fruits)"
   ]
  },
  {
   "cell_type": "code",
   "execution_count": 13,
   "id": "0a55a559",
   "metadata": {},
   "outputs": [
    {
     "name": "stdout",
     "output_type": "stream",
     "text": [
      "3\n"
     ]
    }
   ],
   "source": [
    "print(len(fruits))"
   ]
  },
  {
   "cell_type": "code",
   "execution_count": 14,
   "id": "4f2a0ccb",
   "metadata": {},
   "outputs": [],
   "source": [
    "numbers = [1,2,3,4,5,6,7,8,9]\n",
    "\n",
    "booll =[True, False, True, True]\n",
    "\n",
    "mixed = [\"abc\", 1, True, 2.07, \"new\", \"school\", 23, False]"
   ]
  },
  {
   "cell_type": "code",
   "execution_count": 15,
   "id": "f6bcc81b",
   "metadata": {},
   "outputs": [
    {
     "name": "stdout",
     "output_type": "stream",
     "text": [
      "2.07\n"
     ]
    }
   ],
   "source": [
    "print(mixed[3])"
   ]
  },
  {
   "cell_type": "code",
   "execution_count": 18,
   "id": "13e8fad5",
   "metadata": {},
   "outputs": [
    {
     "name": "stdout",
     "output_type": "stream",
     "text": [
      "10\n",
      "<class 'list'>\n"
     ]
    }
   ],
   "source": [
    "mixed = [\"abc\", 1, [\"123\", \"swift\", [23, 67, 0, 10], 26], True, 2.07, \"new\"]\n",
    "print(mixed[2][2][3])\n",
    "print(type(mixed))"
   ]
  },
  {
   "cell_type": "code",
   "execution_count": 22,
   "id": "a189880c",
   "metadata": {},
   "outputs": [
    {
     "name": "stdout",
     "output_type": "stream",
     "text": [
      "False\n",
      "[True, 2.07, 'new']\n",
      "['abc', 1, True, 2.07]\n",
      "[2.07, 'new', 'school', 23, False]\n"
     ]
    }
   ],
   "source": [
    "mixed = [\"abc\", 1, True, 2.07, \"new\", \"school\", 23, False]\n",
    "print(mixed[-1])\n",
    "print(mixed[2:5])\n",
    "print(mixed[:4])\n",
    "print(mixed[3:])"
   ]
  },
  {
   "cell_type": "code",
   "execution_count": 23,
   "id": "a087bad6",
   "metadata": {},
   "outputs": [
    {
     "name": "stdout",
     "output_type": "stream",
     "text": [
      "['abc', 1, 'mango', 'banana', 'new', 'school', 23, False]\n"
     ]
    }
   ],
   "source": [
    "mixed = [\"abc\", 1, True, 2.07, \"new\", \"school\", 23, False]\n",
    "mixed[2:4] = [\"mango\", \"banana\"]\n",
    "print(mixed)"
   ]
  },
  {
   "cell_type": "code",
   "execution_count": 25,
   "id": "441ea00e",
   "metadata": {},
   "outputs": [
    {
     "name": "stdout",
     "output_type": "stream",
     "text": [
      "['abc', 'age', 1, 'mango', 'banana', 'new', 'school', 23, False, 'age']\n"
     ]
    }
   ],
   "source": [
    "mixed.insert(1, \"age\")\n",
    "print(mixed)"
   ]
  },
  {
   "cell_type": "code",
   "execution_count": 26,
   "id": "bc3bc029",
   "metadata": {},
   "outputs": [
    {
     "name": "stdout",
     "output_type": "stream",
     "text": [
      "['banana', 'kiwi', 'mango', 'orange', 'pineapple']\n"
     ]
    }
   ],
   "source": [
    "thislist = [\"orange\", \"mango\", \"kiwi\", \"pineapple\", \"banana\"]\n",
    "thislist.sort()\n",
    "\n",
    "print(thislist)"
   ]
  },
  {
   "cell_type": "code",
   "execution_count": 27,
   "id": "8d31b54f",
   "metadata": {},
   "outputs": [
    {
     "name": "stdout",
     "output_type": "stream",
     "text": [
      "[23, 40, 72, 87, 100, 229]\n"
     ]
    }
   ],
   "source": [
    "thislist = [100, 72, 23, 40, 229, 87]\n",
    "thislist.sort()\n",
    "\n",
    "print(thislist)"
   ]
  },
  {
   "cell_type": "code",
   "execution_count": null,
   "id": "9c6df624",
   "metadata": {},
   "outputs": [],
   "source": []
  }
 ],
 "metadata": {
  "kernelspec": {
   "display_name": "Python 3",
   "language": "python",
   "name": "python3"
  },
  "language_info": {
   "codemirror_mode": {
    "name": "ipython",
    "version": 3
   },
   "file_extension": ".py",
   "mimetype": "text/x-python",
   "name": "python",
   "nbconvert_exporter": "python",
   "pygments_lexer": "ipython3",
   "version": "3.8.8"
  }
 },
 "nbformat": 4,
 "nbformat_minor": 5
}
