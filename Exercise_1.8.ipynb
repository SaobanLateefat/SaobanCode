{
 "cells": [
  {
   "cell_type": "code",
   "execution_count": 6,
   "id": "1a54dcfc",
   "metadata": {},
   "outputs": [
    {
     "name": "stdout",
     "output_type": "stream",
     "text": [
      "\n",
      "0.1017249004865104\n"
     ]
    }
   ],
   "source": [
    "#512 - 282/(47.48) + 5\n",
    "\n",
    "a = 512\n",
    "b = 282\n",
    "c = 47\n",
    "d =  48\n",
    "e = 5\n",
    "\n",
    "z = (a - b)\n",
    "y = (c * d ) + e\n",
    "\n",
    "x = z/y\n",
    "print()\n",
    "print(x)"
   ]
  },
  {
   "cell_type": "code",
   "execution_count": 3,
   "id": "5f56edaf",
   "metadata": {},
   "outputs": [
    {
     "name": "stdout",
     "output_type": "stream",
     "text": [
      "Enter a number: 5\n",
      "\n",
      "The square of  5 is 25 .\n"
     ]
    }
   ],
   "source": [
    "# Square of a number.\n",
    "A = int(input(\"Enter a number: \"))\n",
    "B = A**2\n",
    "print()\n",
    "print(\"The square of \", A , \"is\", B, \".\")"
   ]
  },
  {
   "cell_type": "code",
   "execution_count": 4,
   "id": "b9e617bf",
   "metadata": {},
   "outputs": [
    {
     "name": "stdout",
     "output_type": "stream",
     "text": [
      "Enter weight in KG: 25\n",
      "Weight = 55.00000000000001 pounds\n"
     ]
    }
   ],
   "source": [
    "#Weight in kg to pounds.\n",
    "X = int(input(\"Enter weight in KG: \"))\n",
    "Y = X*2.2\n",
    "print(\"Weight =\", Y , \"pounds\")"
   ]
  },
  {
   "cell_type": "code",
   "execution_count": 5,
   "id": "201ab86a",
   "metadata": {},
   "outputs": [
    {
     "name": "stdout",
     "output_type": "stream",
     "text": [
      "Enter first number: 2\n",
      "Enter second number: 3\n",
      "Enter third number: 5\n",
      "\n",
      "Total =  10\n",
      "Average =  3.3333333333333335\n"
     ]
    }
   ],
   "source": [
    "a = int(input(\"Enter first number: \"))\n",
    "b = int(input(\"Enter second number: \"))\n",
    "c = int(input(\"Enter third number: \"))\n",
    "\n",
    "total = a + b + c\n",
    "average = total/3\n",
    "\n",
    "print()\n",
    "print(\"Total = \", total)\n",
    "print(\"Average = \", average)"
   ]
  },
  {
   "cell_type": "code",
   "execution_count": 10,
   "id": "f715c265",
   "metadata": {},
   "outputs": [
    {
     "name": "stdout",
     "output_type": "stream",
     "text": [
      "Price of the meal: 100\n",
      "Percentage Tip: 10\n",
      "\n",
      "The Tip amount is $ 10.0 and The Total bill with tip is $ 110.0\n"
     ]
    }
   ],
   "source": [
    "#Meal price and the total price with tip.\n",
    "\n",
    "MealPrice = int(input('Price of the meal: '))\n",
    "PercentageTip = int(input('Percentage Tip: '))\n",
    "\n",
    "Tip = (PercentageTip/100)*MealPrice\n",
    "Total = Tip + MealPrice\n",
    "\n",
    "print()\n",
    "print(\"The Tip amount is $\",Tip, \"and The Total bill with tip is $\",Total)\n"
   ]
  },
  {
   "cell_type": "code",
   "execution_count": null,
   "id": "82823df6",
   "metadata": {},
   "outputs": [],
   "source": []
  }
 ],
 "metadata": {
  "kernelspec": {
   "display_name": "Python 3",
   "language": "python",
   "name": "python3"
  },
  "language_info": {
   "codemirror_mode": {
    "name": "ipython",
    "version": 3
   },
   "file_extension": ".py",
   "mimetype": "text/x-python",
   "name": "python",
   "nbconvert_exporter": "python",
   "pygments_lexer": "ipython3",
   "version": "3.8.8"
  }
 },
 "nbformat": 4,
 "nbformat_minor": 5
}
